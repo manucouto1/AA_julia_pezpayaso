{
 "cells": [
  {
   "cell_type": "code",
   "execution_count": 1,
   "metadata": {},
   "outputs": [],
   "source": [
    "using ScikitLearn\n",
    "using Statistics\n",
    "\n",
    "using ScikitLearn.Pipelines: Pipeline, make_pipeline\n",
    "\n",
    "@sk_import neighbors: KNeighborsClassifier\n",
    "@sk_import neighbors: RadiusNeighborsClassifier\n",
    "@sk_import neighbors: NearestNeighbors\n",
    "@sk_import neighbors: NeighborhoodComponentsAnalysis\n",
    "\n",
    "using Random\n",
    "using DelimitedFiles\n",
    "\n",
    "include(\"kNN/funcionesUtiles.jl\");"
   ]
  },
  {
   "cell_type": "code",
   "execution_count": 2,
   "metadata": {},
   "outputs": [
    {
     "data": {
      "text/plain": [
       "get_main_color (generic function with 1 method)"
      ]
     },
     "execution_count": 2,
     "metadata": {},
     "output_type": "execute_result"
    }
   ],
   "source": [
    "function get_main_color(img, qValue1, qValue2, filter)\n",
    "  \n",
    "    matrizBooleana = filter.(img);\n",
    "    matrizBooleana = closing(matrizBooleana)\n",
    "    \n",
    "    labelArray = ImageMorphology.label_components(matrizBooleana);\n",
    "    \n",
    "    boundingBoxes = ImageMorphology.component_boxes(labelArray);\n",
    "    tamanos = ImageMorphology.component_lengths(labelArray); #Tamaño del grupo \n",
    "    pixeles = ImageMorphology.component_indices(labelArray);\n",
    "    pixeles = ImageMorphology.component_subscripts(labelArray);\n",
    "    centroides = ImageMorphology.component_centroids(labelArray);\n",
    "    \n",
    "    min_size = (size(img)[1]*size(img)[2]/600);\n",
    "    \n",
    "    etiquetasEliminar = findall(tamanos .<= min_size) .- 1; # Importate el -1, porque la primera etiqueta es la 0\n",
    "\n",
    "    matrizBooleana = [!in(etiqueta,etiquetasEliminar) && (etiqueta!=0) for etiqueta in labelArray];\n",
    "    \n",
    "    labelArray = ImageMorphology.label_components(matrizBooleana);\n",
    "    \n",
    "    centroides = ImageMorphology.component_centroids(labelArray)[2:end];\n",
    "\n",
    "    boundingBoxes = ImageMorphology.component_boxes(labelArray)[2:end];\n",
    "    \n",
    "    i = 1;\n",
    "    R1 = Array{Float64,1}(undef, size(boundingBoxes));\n",
    "    G1 = Array{Float64,1}(undef, size(boundingBoxes));\n",
    "    B1 = Array{Float64,1}(undef, size(boundingBoxes));\n",
    "    \n",
    "    img_CHW = channelview(img);\n",
    "    \n",
    "    i = 1;\n",
    "    for boundingBox in boundingBoxes\n",
    "        x1 = boundingBox[1][1];\n",
    "        y1 = boundingBox[1][2];\n",
    "        x2 = boundingBox[2][1];\n",
    "        y2 = boundingBox[2][2];\n",
    "\n",
    "        R1[i] = quantile(skipmissing(img_CHW[1,x1:x2,y1:y2]), qValue1);\n",
    "        G1[i] = quantile(skipmissing(img_CHW[2,x1:x2,y1:y2]), qValue1);\n",
    "        B1[i] = quantile(skipmissing(img_CHW[3,x1:x2,y1:y2]), qValue1);\n",
    "        i= i + 1;\n",
    "    end;\n",
    "    \n",
    "    if(maximum(labelArray) == 0)\n",
    "        return (quantile(skipmissing(red.(img)), qValue2), quantile(skipmissing(green.(img)), qValue2), quantile(skipmissing(blue.(img)),qValue2))\n",
    "    else \n",
    "        return (quantile(skipmissing(R1), qValue2), quantile(skipmissing(G1), qValue2), quantile(skipmissing(B1),qValue2))\n",
    "    end\n",
    "end"
   ]
  },
  {
   "cell_type": "code",
   "execution_count": 3,
   "metadata": {},
   "outputs": [
    {
     "ename": "UndefVarError",
     "evalue": "UndefVarError: RGBA not defined",
     "output_type": "error",
     "traceback": [
      "UndefVarError: RGBA not defined",
      "",
      "Stacktrace:",
      " [1] top-level scope at In[3]:1"
     ]
    }
   ],
   "source": [
    "esPixelRojo(pixel::RGBA, dRV=0.3, dRA=0.3) = (pixel.r > pixel.g + dRV) && (pixel.r > pixel.b + dRA);"
   ]
  },
  {
   "cell_type": "code",
   "execution_count": 4,
   "metadata": {},
   "outputs": [
    {
     "ename": "UndefVarError",
     "evalue": "UndefVarError: RGB not defined",
     "output_type": "error",
     "traceback": [
      "UndefVarError: RGB not defined",
      "",
      "Stacktrace:",
      " [1] top-level scope at In[4]:1"
     ]
    }
   ],
   "source": [
    "esPixelRojo(pixel::RGB, dRV=0.3, dRA=0.3) = (pixel.r > pixel.g + dRV) && (pixel.r > pixel.b + dRA);"
   ]
  },
  {
   "cell_type": "code",
   "execution_count": 5,
   "metadata": {},
   "outputs": [
    {
     "ename": "UndefVarError",
     "evalue": "UndefVarError: RGB not defined",
     "output_type": "error",
     "traceback": [
      "UndefVarError: RGB not defined",
      "",
      "Stacktrace:",
      " [1] top-level scope at In[5]:1"
     ]
    }
   ],
   "source": [
    "esPixelBlanco(pixel::RGB, dr=0.3, dg=0.3, db=0.3) = (pixel.r + dr >= 1) && (pixel.g + dg >= 1) && (pixel.b + db >= 1);"
   ]
  },
  {
   "cell_type": "code",
   "execution_count": 6,
   "metadata": {},
   "outputs": [
    {
     "ename": "UndefVarError",
     "evalue": "UndefVarError: RGBA not defined",
     "output_type": "error",
     "traceback": [
      "UndefVarError: RGBA not defined",
      "",
      "Stacktrace:",
      " [1] top-level scope at In[6]:1"
     ]
    }
   ],
   "source": [
    "esPixelBlanco(pixel::RGBA, dr=0.3, dg=0.3, db=0.3) = (pixel.r + dr >= 1) && (pixel.g + dg >= 1) && (pixel.b + db >= 1);"
   ]
  },
  {
   "cell_type": "code",
   "execution_count": 7,
   "metadata": {},
   "outputs": [],
   "source": [
    "function process_image(image)\n",
    "    img = copy(image);\n",
    "    img_CHW = channelview(img);\n",
    "    \n",
    "    (R1, G1, B1) = get_main_color(img, 0.99, 0.99, esPixelRojo)\n",
    "    (R2, G2, B2) = get_main_color(img, 0.75, 0.95, esPixelBlanco)\n",
    "\n",
    "    patron = [\n",
    "        mean(img_CHW[1,:,:]), \n",
    "        mean(img_CHW[2,:,:]), \n",
    "        mean(img_CHW[3,:,:]),\n",
    "        std(img_CHW[1,:,:]), \n",
    "        std(img_CHW[2,:,:]), \n",
    "        std(img_CHW[3,:,:]),\n",
    "        R1,\n",
    "        G1,\n",
    "        B1,\n",
    "        R2,\n",
    "        G2,\n",
    "        B2];\n",
    "        \n",
    "    return patron;\n",
    "end;"
   ]
  },
  {
   "cell_type": "code",
   "execution_count": 8,
   "metadata": {},
   "outputs": [],
   "source": [
    "function prepare_data(dir, n_inputs, output, patronesEnFilas = true)\n",
    "    directorio = readdir(dir);\n",
    "    \n",
    "    salidas_deseadas = zeros(1, size(directorio,1));\n",
    "    patrones = Array{Float64,2}(undef, size(directorio,1),n_inputs);\n",
    "    \n",
    "    i = 1\n",
    "    \n",
    "    if(patronesEnFilas)\n",
    "        for file in directorio \n",
    "            image = load(string(dir,\"/\",file));\n",
    "            patrones[i,:] = process_image(image)[:];\n",
    "            salidas_deseadas[i] = output;\n",
    "            i = i + 1\n",
    "            \n",
    "        end;\n",
    "    else\n",
    "        for file in directorio \n",
    "            image = load(string(dir,\"/\",file));\n",
    "            patrones[:,i] = process_image(image)[:];\n",
    "            salidas_deseadas[i] = output;\n",
    "            i = i + 1\n",
    "        end;\n",
    "    end\n",
    "\n",
    "    return patrones, salidas_deseadas;\n",
    "end;"
   ]
  },
  {
   "cell_type": "code",
   "execution_count": 9,
   "metadata": {},
   "outputs": [],
   "source": [
    "function get_orange_white_boolean(imagen)\n",
    "    \n",
    "    diferenciaRojoVerde = 0.3; \n",
    "    diferenciaRojoAzul = 0.3;\n",
    "    \n",
    "    canalRojo = red.(imagen); \n",
    "    canalVerde = green.(imagen); \n",
    "    canalAzul = blue.(imagen);\n",
    "    \n",
    "    white_chanel = (zeros(size(canalRojo)[1], size(canalRojo)[2]).+0.6);\n",
    "    white_chanel1 = (zeros(size(canalRojo)[1], size(canalRojo)[2]).+0.9);\n",
    "    \n",
    "    mb_w =  (canalRojo.>white_chanel.+ mean(canalRojo)) .& \n",
    "            (canalVerde.>white_chanel.- mean(canalVerde)) .& \n",
    "            (canalAzul.>white_chanel.- mean(canalAzul));\n",
    "    \n",
    "    mb_w1 =  (canalRojo.>white_chanel1) .& \n",
    "            (canalVerde.>white_chanel1) .& \n",
    "            (canalAzul.>white_chanel1);\n",
    "    \n",
    "    mb_r =  (canalRojo.>(canalVerde.+diferenciaRojoVerde)) .& \n",
    "            (canalRojo.>(canalAzul.+diferenciaRojoAzul));\n",
    "    \n",
    "    matrizBooleana = mb_r .| mb_w1 #.| mb_w1; \n",
    "    \n",
    "    return matrizBooleana;\n",
    "end;"
   ]
  },
  {
   "cell_type": "code",
   "execution_count": 10,
   "metadata": {},
   "outputs": [
    {
     "data": {
      "text/plain": [
       "check_region (generic function with 1 method)"
      ]
     },
     "execution_count": 10,
     "metadata": {},
     "output_type": "execute_result"
    }
   ],
   "source": [
    "function check_region(x1, y1, x2, y2, imagen, modelo, nImputs, wall)\n",
    "    img_v = @view imagen[x1:x2, y1:y2]\n",
    "    img_CHW = channelview(img_v)\n",
    "\n",
    "    xtrain = convert(Array{Float64}, process_image(img_v));\n",
    "    \n",
    "    xtrain_aux =  reshape(xtrain,1,nImputs);\n",
    "    if(modelo.predict(xtrain_aux)[1] == 1.0)\n",
    "        imagen[x1:x2, y1] .= RGB(0,1,0);\n",
    "        imagen[x1:x2, y2] .= RGB(0,1,0);\n",
    "        imagen[x1, y1:y2] .= RGB(0,1,0);\n",
    "        imagen[x2, y1:y2] .= RGB(0,1,0);\n",
    "    else\n",
    "        imagen[x1:x2, y1] .= RGB(1,0,0);\n",
    "        imagen[x1:x2, y2] .= RGB(1,0,0);\n",
    "        imagen[x1, y1:y2] .= RGB(1,0,0);\n",
    "        imagen[x2, y1:y2] .= RGB(1,0,0);\n",
    "    end\n",
    "end"
   ]
  },
  {
   "cell_type": "code",
   "execution_count": 11,
   "metadata": {},
   "outputs": [],
   "source": [
    "function process_picture(filePath, modelo, nImputs, wall)\n",
    "    imagen = load(filePath);\n",
    "    booleanMatrix = get_orange_white_boolean(imagen)\n",
    "    booleanMatrix = closing(dilate(booleanMatrix,[1,2]))\n",
    "\n",
    "    if(!maximum(booleanMatrix))\n",
    "        booleanMatrix = get_orange_white_boolean(imagen);\n",
    "    end;\n",
    "    \n",
    "    labelArray = ImageMorphology.label_components(booleanMatrix);\n",
    "    boundingBoxes = ImageMorphology.component_boxes(labelArray);\n",
    "    tamanos = ImageMorphology.component_lengths(labelArray); #Tamaño del grupo \n",
    "    pixeles = ImageMorphology.component_indices(labelArray);\n",
    "    pixeles = ImageMorphology.component_subscripts(labelArray);\n",
    "    centroides = ImageMorphology.component_centroids(labelArray);\n",
    "\n",
    "    min_size = (size(imagen)[1]*size(imagen)[2]/600);\n",
    "    etiquetasEliminar = findall(tamanos .<= min_size) .- 1;\n",
    "    matrizBooleana = [!in(etiqueta,etiquetasEliminar) && (etiqueta!=0) for etiqueta in labelArray];\n",
    "    \n",
    "    labelArray = ImageMorphology.label_components(matrizBooleana);\n",
    "    imagenObjetos = RGB.(matrizBooleana, matrizBooleana, matrizBooleana);\n",
    "    centroides = ImageMorphology.component_centroids(labelArray)[2:end];\n",
    "    \n",
    "    for centroide in centroides\n",
    "        x = Int(round(centroide[1]));\n",
    "        y = Int(round(centroide[2]));\n",
    "        imagenObjetos[ x, y ] = RGB(1,0,0);\n",
    "    end;\n",
    "    \n",
    "    imagen = load(filePath)\n",
    "    \n",
    "    boundingBoxes = ImageMorphology.component_boxes(labelArray)[2:end];\n",
    "    \n",
    "    for boundingBox in boundingBoxes\n",
    "        x1 = boundingBox[1][1];\n",
    "        y1 = boundingBox[1][2];\n",
    "        x2 = boundingBox[2][1];\n",
    "        y2 = boundingBox[2][2];\n",
    "\n",
    "        check_region(x1,y1,x2,y2, imagen, modelo, nImputs, wall)\n",
    "    end;\n",
    "    return imagen;\n",
    "end;"
   ]
  },
  {
   "cell_type": "code",
   "execution_count": 12,
   "metadata": {},
   "outputs": [
    {
     "data": {
      "text/plain": [
       "alg_factory (generic function with 1 method)"
      ]
     },
     "execution_count": 12,
     "metadata": {},
     "output_type": "execute_result"
    }
   ],
   "source": [
    "function alg_factory(tipoAlg, nProximos)\n",
    "    if(tipoAlg == \"pipelineKnn\")\n",
    "        nca = NeighborhoodComponentsAnalysis(random_state=42)\n",
    "        knn = KNeighborsClassifier(n_neighbors=nProximos)\n",
    "        return Pipeline([(\"nca\", nca), (\"knn\", knn)])\n",
    "    elseif(tipoAlg == \"radius\")\n",
    "        return  RadiusNeighborsClassifier(nProximos)\n",
    "    elseif (tipoAlg == \"knn\")\n",
    "        return KNeighborsClassifier(nProximos)\n",
    "    elseif (tipoAlg == \"nearest\")\n",
    "        return NearestNeighbors(nProximos, algorithm=\"ball_tree\")\n",
    "    end\n",
    "end\n"
   ]
  },
  {
   "cell_type": "code",
   "execution_count": 13,
   "metadata": {},
   "outputs": [],
   "source": [
    "function knn_training(patrones, salidasDeseadas, porcentajeTest, numEjecuciones, nProximos, tipoAlg)    \n",
    "    salidasDeseadas = indexin( salidasDeseadas, unique(salidasDeseadas) );\n",
    "    numPatrones = size(patrones, 1);\n",
    "    \n",
    "    valoresNormalizacion = normalizarMaxMin!(patrones; patronesEnFilas=true);\n",
    "    \n",
    "    precisionesEntrenamiento = Array{Float64,1}();\n",
    "    precisionesTest = Array{Float64,1}();\n",
    "    \n",
    "    bestPrecisionTest = 0;\n",
    "    bestModelo = alg_factory(tipoAlg,nProximos);\n",
    "    \n",
    "    for numEjecucion in 1:numEjecuciones\n",
    "\n",
    "        println(\"Ejecucion \", numEjecucion);\n",
    "\n",
    "        (indicesPatronesEntrenamiento, indicesPatronesTest) = holdOut(numPatrones, porcentajeTest);\n",
    "\n",
    "        modelo = alg_factory(tipoAlg,nProximos);\n",
    "\n",
    "        fit!(modelo, patrones[indicesPatronesEntrenamiento,:], salidasDeseadas[indicesPatronesEntrenamiento]);\n",
    "\n",
    "        clasificacionEntrenamiento = predict(modelo, patrones[indicesPatronesEntrenamiento,:]);\n",
    "        precisionEntrenamiento = 100*mean(clasificacionEntrenamiento .== salidasDeseadas[indicesPatronesEntrenamiento]);\n",
    "        println(\"Precision en el conjunto de entrenamiento: $precisionEntrenamiento %\");\n",
    "\n",
    "        clasificacionTest = predict(modelo, patrones[indicesPatronesTest,:]);\n",
    "        precisionTest = 100*mean(clasificacionTest .== salidasDeseadas[indicesPatronesTest]);\n",
    "        println(\"Precision en el conjunto de test: $precisionTest %\");\n",
    "        \n",
    "        push!(precisionesEntrenamiento, precisionEntrenamiento);\n",
    "        push!(precisionesTest, precisionTest);\n",
    "        \n",
    "        if(precisionTest > bestPrecisionTest)\n",
    "            bestPrecisionTest = precisionTest;\n",
    "            bestModelo = modelo;\n",
    "        end;\n",
    "\n",
    "    end;\n",
    "    \n",
    "    println(\"Resultados en promedio al separar las 3 clases:\")\n",
    "    println(\"   Entrenamiento: \", mean(precisionesEntrenamiento), \" %, desviacion tipica: \", std(precisionesEntrenamiento));\n",
    "    println(\"   Test:          \", mean(precisionesTest), \" %, desviacion tipica: \", std(precisionesTest));\n",
    "    \n",
    "    return (bestPrecisionTest, bestModelo);\n",
    "    \n",
    "end;"
   ]
  },
  {
   "cell_type": "code",
   "execution_count": 14,
   "metadata": {},
   "outputs": [
    {
     "data": {
      "text/plain": [
       "shuffle_patterns (generic function with 1 method)"
      ]
     },
     "execution_count": 14,
     "metadata": {},
     "output_type": "execute_result"
    }
   ],
   "source": [
    "function shuffle_patterns(patterns, outputs)\n",
    "    c = hcat(outputs,patterns)\n",
    "    c = c[shuffle(1:end),:]\n",
    "    c = c[shuffle(1:end),:]\n",
    "    return c[:, 2:(size(c)[2])], c[:, 1:1][:,1]\n",
    "end"
   ]
  },
  {
   "cell_type": "code",
   "execution_count": 15,
   "metadata": {},
   "outputs": [],
   "source": [
    "function find_bestK(patrones, salidasDeseadas, porcentajeTest, numEjecuciones, maxValley, tipoKNN)\n",
    "    kN = 3;\n",
    "    stop = false;\n",
    "    counter = 0;\n",
    "    \n",
    "    (bpTest, bModelo) = knn_training(patrones, salidasDeseadas, porcentajeTest, numEjecuciones, kN, tipoKNN)\n",
    "    while (!stop )\n",
    "        kN = kN + 2\n",
    "        \n",
    "        (pTest, modelo) = knn_training(patrones, salidasDeseadas, porcentajeTest, numEjecuciones, kN, tipoKNN)\n",
    "        \n",
    "        if (pTest > bpTest)\n",
    "            bpTest = pTest\n",
    "            bModelo = modelo\n",
    "            counter = 0\n",
    "        else\n",
    "            counter = counter +1;\n",
    "        end\n",
    "        \n",
    "        if (counter > maxValley)\n",
    "            stop = true\n",
    "        end;\n",
    "    end;\n",
    "    \n",
    "    println(\"Resultados Mejor modelo: \");\n",
    "    println(\"   kN's: \", kN);\n",
    "    println(\"   Test: \", bpTest,\"%\");\n",
    "    \n",
    "    return bModelo\n",
    "end;"
   ]
  },
  {
   "cell_type": "code",
   "execution_count": 16,
   "metadata": {},
   "outputs": [
    {
     "name": "stderr",
     "output_type": "stream",
     "text": [
      "Gtk-Message: 23:09:12.125: Failed to load module \"canberra-gtk-module\"\n",
      "Gtk-Message: 23:09:12.125: Failed to load module \"canberra-gtk-module\"\n"
     ]
    }
   ],
   "source": [
    "using ImageView, Images, ImageSegmentation"
   ]
  },
  {
   "cell_type": "code",
   "execution_count": 17,
   "metadata": {},
   "outputs": [
    {
     "ename": "MethodError",
     "evalue": "MethodError: no method matching esPixelRojo(::RGB{Normed{UInt8,8}})",
     "output_type": "error",
     "traceback": [
      "MethodError: no method matching esPixelRojo(::RGB{Normed{UInt8,8}})",
      "",
      "Stacktrace:",
      " [1] _broadcast_getindex_evalf at ./broadcast.jl:630 [inlined]",
      " [2] _broadcast_getindex at ./broadcast.jl:603 [inlined]",
      " [3] getindex at ./broadcast.jl:563 [inlined]",
      " [4] copy at ./broadcast.jl:853 [inlined]",
      " [5] materialize(::Base.Broadcast.Broadcasted{Base.Broadcast.DefaultArrayStyle{2},Nothing,typeof(esPixelRojo),Tuple{Array{RGB{Normed{UInt8,8}},2}}}) at ./broadcast.jl:819",
      " [6] get_main_color(::Array{RGB{Normed{UInt8,8}},2}, ::Float64, ::Float64, ::Function) at ./In[2]:3",
      " [7] process_image(::Array{RGB{Normed{UInt8,8}},2}) at ./In[7]:5",
      " [8] prepare_data(::String, ::Int64, ::Int64, ::Bool) at ./In[8]:12",
      " [9] prepare_data(::String, ::Int64, ::Int64) at ./In[8]:2",
      " [10] top-level scope at In[17]:6"
     ]
    }
   ],
   "source": [
    "porcentajeTest = 0.4;\n",
    "numEjecuciones = 50;\n",
    "\n",
    "#Numero de patrones más próximos que se buscarán, si clases par nProximos impar\n",
    "nProximos = 3;\n",
    "\n",
    "patrones_si, salidas_deseadas_si = prepare_data(\"../db/positivos\", 12, 1);\n",
    "patrones_no, salidas_deseadas_no = prepare_data(\"../db/negativos\", 12, 0);\n",
    "\n",
    "#=\n",
    "salidasDeseadas =  convert(Array{Float64}, hcat(salidas_deseadas_si, salidas_deseadas_no));\n",
    "salidasDeseadas = reshape(convert(Array{Float64},hcat(salidas_deseadas_si, salidas_deseadas_no)),size(salidasDeseadas,2),1)\n",
    "\n",
    "patrones =  convert(Array{Float64}, vcat(patrones_si, patrones_no));\n",
    "=#\n",
    "#patrones, salidasDeseadas = shuffle_patterns(patrones, salidasDeseadas);\n"
   ]
  },
  {
   "cell_type": "code",
   "execution_count": 18,
   "metadata": {},
   "outputs": [
    {
     "ename": "UndefVarError",
     "evalue": "UndefVarError: patrones not defined",
     "output_type": "error",
     "traceback": [
      "UndefVarError: patrones not defined",
      "",
      "Stacktrace:",
      " [1] top-level scope at In[18]:1"
     ]
    }
   ],
   "source": [
    "fMejorModelo = find_bestK(patrones, salidasDeseadas, porcentajeTest, numEjecuciones, 1,\"knn\");\n",
    "#(_,fMejorModelo) = knn_training(patrones, salidasDeseadas, porcentajeTest, numEjecuciones, 7, \"knn\");"
   ]
  },
  {
   "cell_type": "code",
   "execution_count": 19,
   "metadata": {},
   "outputs": [
    {
     "name": "stdout",
     "output_type": "stream",
     "text": [
      "pez001.jpg\n"
     ]
    },
    {
     "ename": "UndefVarError",
     "evalue": "UndefVarError: fMejorModelo not defined",
     "output_type": "error",
     "traceback": [
      "UndefVarError: fMejorModelo not defined",
      "",
      "Stacktrace:",
      " [1] top-level scope at ./In[19]:5"
     ]
    }
   ],
   "source": [
    "directorio = readdir(\"../db/fotos\");\n",
    "\n",
    "for file in directorio \n",
    "    println(file);\n",
    "    imagen = process_picture(string(\"../db/fotos/\",file), fMejorModelo, 6, 0.72);\n",
    "    display(imagen)\n",
    "end; \n"
   ]
  }
 ],
 "metadata": {
  "@webio": {
   "lastCommId": null,
   "lastKernelId": null
  },
  "kernelspec": {
   "display_name": "Julia 1.3.1",
   "language": "julia",
   "name": "julia-1.3"
  },
  "language_info": {
   "file_extension": ".jl",
   "mimetype": "application/julia",
   "name": "julia",
   "version": "1.3.1"
  }
 },
 "nbformat": 4,
 "nbformat_minor": 4
}
