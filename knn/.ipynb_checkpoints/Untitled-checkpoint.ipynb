{
 "cells": [
  {
   "cell_type": "code",
   "execution_count": 1,
   "metadata": {},
   "outputs": [
    {
     "name": "stderr",
     "output_type": "stream",
     "text": [
      "┌ Info: CUDAnative.jl failed to initialize, GPU functionality unavailable (set JULIA_CUDA_SILENT or JULIA_CUDA_VERBOSE to silence or expand this message)\n",
      "└ @ CUDAnative /home/manuc/.julia/packages/CUDAnative/JfXpo/src/CUDAnative.jl:146\n",
      "Gtk-Message: 21:11:47.720: Failed to load module \"canberra-gtk-module\"\n",
      "Gtk-Message: 21:11:47.720: Failed to load module \"canberra-gtk-module\"\n"
     ]
    }
   ],
   "source": [
    "using Random\n",
    "using DelimitedFiles\n",
    "using FileIO\n",
    "using Images\n",
    "using ScikitLearn\n",
    "using Statistics\n",
    "using Flux\n",
    "using Flux: onehotbatch, onecold, crossentropy, binarycrossentropy\n",
    "using Random\n",
    "using DelimitedFiles\n",
    "using ImageView, Images, ImageSegmentation\n",
    "using Random\n",
    "using Statistics\n",
    "include(\"kNN/funcionesUtiles.jl\");"
   ]
  },
  {
   "cell_type": "code",
   "execution_count": 139,
   "metadata": {},
   "outputs": [
    {
     "data": {
      "text/plain": [
       "get_main_color (generic function with 3 methods)"
      ]
     },
     "execution_count": 139,
     "metadata": {},
     "output_type": "execute_result"
    }
   ],
   "source": [
    "function get_main_color(img, qValue1, qValue2, filter)\n",
    "    \n",
    "    matrizBooleana = filter.(img);\n",
    "    matrizBooleana = closing(matrizBooleana)\n",
    "    \n",
    "    labelArray = ImageMorphology.label_components(matrizBooleana);\n",
    "    println(\"Se han detectado $(maximum(labelArray)) objetos\")\n",
    "    \n",
    "    boundingBoxes = ImageMorphology.component_boxes(labelArray);\n",
    "    tamanos = ImageMorphology.component_lengths(labelArray); #Tamaño del grupo \n",
    "    pixeles = ImageMorphology.component_indices(labelArray);\n",
    "    pixeles = ImageMorphology.component_subscripts(labelArray);\n",
    "    centroides = ImageMorphology.component_centroids(labelArray);\n",
    "    \n",
    "    min_size = (size(img)[1]*size(img)[2]/600);\n",
    "    \n",
    "    etiquetasEliminar = findall(tamanos .<= min_size) .- 1; # Importate el -1, porque la primera etiqueta es la 0\n",
    "\n",
    "    matrizBooleana = [!in(etiqueta,etiquetasEliminar) && (etiqueta!=0) for etiqueta in labelArray];\n",
    "    \n",
    "    display(Gray.(matrizBooleana));\n",
    "    labelArray = ImageMorphology.label_components(matrizBooleana);\n",
    "    \n",
    "    centroides = ImageMorphology.component_centroids(labelArray)[2:end];\n",
    "\n",
    "    boundingBoxes = ImageMorphology.component_boxes(labelArray)[2:end];\n",
    "    i = 1;\n",
    "    R1 = Array{Float64,1}(undef, size(boundingBoxes));\n",
    "    G1 = Array{Float64,1}(undef, size(boundingBoxes));\n",
    "    B1 = Array{Float64,1}(undef, size(boundingBoxes));\n",
    "    \n",
    "    c_img = copy(img)\n",
    "    img_CHW = channelview(c_img);\n",
    "    for boundingBox in boundingBoxes\n",
    "        x1 = boundingBox[1][1];\n",
    "        y1 = boundingBox[1][2];\n",
    "        x2 = boundingBox[2][1];\n",
    "        y2 = boundingBox[2][2];\n",
    "\n",
    "        img[ x1:x2 , y1 ] .= RGB(0,1,0);\n",
    "        img[ x1:x2 , y2 ] .= RGB(0,1,0);\n",
    "        img[ x1 , y1:y2 ] .= RGB(0,1,0);\n",
    "        img[ x2 , y1:y2 ] .= RGB(0,1,0);\n",
    "\n",
    "        \n",
    "        R1[i] = quantile(skipmissing(img_CHW[1,x1:x2,y1:y2]), qValue1);\n",
    "        G1[i] = quantile(skipmissing(img_CHW[2,x1:x2,y1:y2]), qValue1);\n",
    "        B1[i] = quantile(skipmissing(img_CHW[3,x1:x2,y1:y2]), qValue1);\n",
    "        i= i + 1;\n",
    "\n",
    "    end;\n",
    "    \n",
    "    return (img, quantile(skipmissing(R1), qValue2), quantile(skipmissing(G1), qValue2), quantile(skipmissing(B1),qValue2))\n",
    "end"
   ]
  },
  {
   "cell_type": "code",
   "execution_count": 111,
   "metadata": {},
   "outputs": [],
   "source": [
    "esPixelRojo(pixel::RGB, dRV=0.3, dRA=0.3) = (pixel.r > pixel.g + dRV) && (pixel.r > pixel.b + dRA);"
   ]
  },
  {
   "cell_type": "code",
   "execution_count": 137,
   "metadata": {},
   "outputs": [
    {
     "data": {
      "image/png": "[encoded data removed]",
      "text/plain": [
       "36×65 Array{Gray{Bool},2} with eltype Gray{Bool}:\n",
       " Gray{Bool}(false)  Gray{Bool}(false)  …  Gray{Bool}(false)\n",
       " Gray{Bool}(false)  Gray{Bool}(false)     Gray{Bool}(false)\n",
       " Gray{Bool}(false)  Gray{Bool}(false)     Gray{Bool}(false)\n",
       " Gray{Bool}(false)  Gray{Bool}(false)     Gray{Bool}(false)\n",
       " Gray{Bool}(false)  Gray{Bool}(false)     Gray{Bool}(false)\n",
       " Gray{Bool}(false)  Gray{Bool}(false)  …  Gray{Bool}(false)\n",
       " Gray{Bool}(false)  Gray{Bool}(false)     Gray{Bool}(false)\n",
       " Gray{Bool}(false)  Gray{Bool}(false)     Gray{Bool}(false)\n",
       " Gray{Bool}(false)  Gray{Bool}(false)     Gray{Bool}(false)\n",
       " Gray{Bool}(false)  Gray{Bool}(false)     Gray{Bool}(false)\n",
       " Gray{Bool}(false)  Gray{Bool}(false)  …  Gray{Bool}(false)\n",
       " Gray{Bool}(false)  Gray{Bool}(false)     Gray{Bool}(false)\n",
       " Gray{Bool}(false)  Gray{Bool}(false)     Gray{Bool}(false)\n",
       " ⋮                                     ⋱                   \n",
       " Gray{Bool}(false)  Gray{Bool}(false)     Gray{Bool}(false)\n",
       " Gray{Bool}(false)  Gray{Bool}(false)  …  Gray{Bool}(false)\n",
       " Gray{Bool}(false)  Gray{Bool}(false)     Gray{Bool}(false)\n",
       " Gray{Bool}(false)  Gray{Bool}(false)     Gray{Bool}(false)\n",
       " Gray{Bool}(false)  Gray{Bool}(false)     Gray{Bool}(false)\n",
       " Gray{Bool}(false)  Gray{Bool}(false)     Gray{Bool}(false)\n",
       " Gray{Bool}(false)  Gray{Bool}(false)  …  Gray{Bool}(false)\n",
       " Gray{Bool}(false)  Gray{Bool}(false)     Gray{Bool}(false)\n",
       " Gray{Bool}(false)  Gray{Bool}(false)     Gray{Bool}(false)\n",
       " Gray{Bool}(false)  Gray{Bool}(false)     Gray{Bool}(false)\n",
       " Gray{Bool}(false)  Gray{Bool}(false)     Gray{Bool}(false)\n",
       " Gray{Bool}(false)  Gray{Bool}(false)  …  Gray{Bool}(false)"
      ]
     },
     "metadata": {},
     "output_type": "display_data"
    },
    {
     "data": {
      "image/png": "[encoded data removed]",
      "text/plain": [
       "36×65 Array{RGB{N0f8},2} with eltype RGB{Normed{UInt8,8}}:\n",
       " RGB{N0f8}(0.369,0.58,0.682)   …  RGB{N0f8}(0.216,0.443,0.537)\n",
       " RGB{N0f8}(0.396,0.608,0.702)     RGB{N0f8}(0.22,0.439,0.537) \n",
       " RGB{N0f8}(0.431,0.635,0.718)     RGB{N0f8}(0.224,0.435,0.537)\n",
       " RGB{N0f8}(0.424,0.624,0.69)      RGB{N0f8}(0.239,0.431,0.549)\n",
       " RGB{N0f8}(0.388,0.58,0.635)      RGB{N0f8}(0.251,0.427,0.549)\n",
       " RGB{N0f8}(0.361,0.549,0.588)  …  RGB{N0f8}(0.251,0.42,0.553) \n",
       " RGB{N0f8}(0.345,0.529,0.553)     RGB{N0f8}(0.251,0.42,0.557) \n",
       " RGB{N0f8}(0.357,0.533,0.553)     RGB{N0f8}(0.239,0.42,0.553) \n",
       " RGB{N0f8}(0.388,0.561,0.573)     RGB{N0f8}(0.216,0.424,0.549)\n",
       " RGB{N0f8}(0.518,0.671,0.69)      RGB{N0f8}(0.188,0.42,0.537) \n",
       " RGB{N0f8}(0.455,0.6,0.624)    …  RGB{N0f8}(0.173,0.424,0.529)\n",
       " RGB{N0f8}(0.373,0.502,0.529)     RGB{N0f8}(0.176,0.435,0.529)\n",
       " RGB{N0f8}(0.506,0.627,0.647)     RGB{N0f8}(0.176,0.435,0.522)\n",
       " ⋮                             ⋱                              \n",
       " RGB{N0f8}(0.467,0.561,0.569)     RGB{N0f8}(0.255,0.404,0.478)\n",
       " RGB{N0f8}(0.635,0.729,0.737)  …  RGB{N0f8}(0.208,0.384,0.467)\n",
       " RGB{N0f8}(0.698,0.792,0.792)     RGB{N0f8}(0.18,0.376,0.475) \n",
       " RGB{N0f8}(0.616,0.702,0.694)     RGB{N0f8}(0.184,0.384,0.49) \n",
       " RGB{N0f8}(0.525,0.604,0.596)     RGB{N0f8}(0.192,0.404,0.506)\n",
       " RGB{N0f8}(0.537,0.612,0.588)     RGB{N0f8}(0.196,0.4,0.494)  \n",
       " RGB{N0f8}(0.565,0.631,0.6)    …  RGB{N0f8}(0.173,0.369,0.459)\n",
       " RGB{N0f8}(0.616,0.667,0.627)     RGB{N0f8}(0.176,0.365,0.455)\n",
       " RGB{N0f8}(0.635,0.682,0.635)     RGB{N0f8}(0.192,0.388,0.486)\n",
       " RGB{N0f8}(0.655,0.686,0.627)     RGB{N0f8}(0.18,0.38,0.486)  \n",
       " RGB{N0f8}(0.647,0.675,0.604)     RGB{N0f8}(0.169,0.376,0.498)\n",
       " RGB{N0f8}(0.608,0.639,0.557)  …  RGB{N0f8}(0.161,0.376,0.498)"
      ]
     },
     "metadata": {},
     "output_type": "display_data"
    },
    {
     "data": {
      "image/svg+xml": [
       "<?xml version=\"1.0\" encoding=\"UTF-8\"?>\n",
       "<!DOCTYPE svg PUBLIC \"-//W3C//DTD SVG 1.1//EN\"\n",
       " \"http://www.w3.org/Graphics/SVG/1.1/DTD/svg11.dtd\">\n",
       "<svg xmlns=\"http://www.w3.org/2000/svg\" version=\"1.1\"\n",
       "     width=\"25mm\" height=\"25mm\" viewBox=\"0 0 1 1\">\n",
       "     <rect width=\"1\" height=\"1\"\n",
       "           fill=\"#F4AA6D\" stroke=\"none\"/>\n",
       "</svg>\n"
      ],
      "text/plain": [
       "RGB{Float64}(0.9558501960784314,0.6681082352941177,0.42784392156862744)"
      ]
     },
     "metadata": {},
     "output_type": "display_data"
    },
    {
     "name": "stdout",
     "output_type": "stream",
     "text": [
      "Se han detectado 3 objetos\n"
     ]
    }
   ],
   "source": [
    "img = load(\"../db/positivos/p003.jpg\");\n",
    "qValue1 = 0.99\n",
    "qValue2 = 0.99\n",
    "\n",
    "(img, R1, G1, B1) = get_main_color(img, qValue1, qValue2, esPixelRojo)\n",
    "\n",
    "#display(RGB.(mean(R1),meaen(G1),mean(B1)));\n",
    "display(img);\n",
    "display(RGB.(R1,G1,B1));"
   ]
  },
  {
   "cell_type": "code",
   "execution_count": 116,
   "metadata": {},
   "outputs": [],
   "source": [
    "esPixelBlanco(pixel::RGB, dr=0.3, dg=0.3, db=0.3) = (pixel.r + dr >= 1) && (pixel.g + dg >= 1) && (pixel.b + db >= 1);"
   ]
  },
  {
   "cell_type": "code",
   "execution_count": 140,
   "metadata": {},
   "outputs": [
    {
     "data": {
      "image/png": "[encoded data removed]",
      "text/plain": [
       "36×65 Array{Gray{Bool},2} with eltype Gray{Bool}:\n",
       " Gray{Bool}(false)  Gray{Bool}(false)  …  Gray{Bool}(false)\n",
       " Gray{Bool}(false)  Gray{Bool}(false)     Gray{Bool}(false)\n",
       " Gray{Bool}(false)  Gray{Bool}(false)     Gray{Bool}(false)\n",
       " Gray{Bool}(false)  Gray{Bool}(false)     Gray{Bool}(false)\n",
       " Gray{Bool}(false)  Gray{Bool}(false)     Gray{Bool}(false)\n",
       " Gray{Bool}(false)  Gray{Bool}(false)  …  Gray{Bool}(false)\n",
       " Gray{Bool}(false)  Gray{Bool}(false)     Gray{Bool}(false)\n",
       " Gray{Bool}(false)  Gray{Bool}(false)     Gray{Bool}(false)\n",
       " Gray{Bool}(false)  Gray{Bool}(false)     Gray{Bool}(false)\n",
       " Gray{Bool}(false)  Gray{Bool}(false)     Gray{Bool}(false)\n",
       " Gray{Bool}(false)  Gray{Bool}(false)  …  Gray{Bool}(false)\n",
       " Gray{Bool}(false)  Gray{Bool}(false)     Gray{Bool}(false)\n",
       " Gray{Bool}(false)  Gray{Bool}(false)     Gray{Bool}(false)\n",
       " ⋮                                     ⋱                   \n",
       " Gray{Bool}(false)  Gray{Bool}(false)     Gray{Bool}(false)\n",
       " Gray{Bool}(false)  Gray{Bool}(false)  …  Gray{Bool}(false)\n",
       " Gray{Bool}(false)  Gray{Bool}(false)     Gray{Bool}(false)\n",
       " Gray{Bool}(false)  Gray{Bool}(false)     Gray{Bool}(false)\n",
       " Gray{Bool}(false)  Gray{Bool}(false)     Gray{Bool}(false)\n",
       " Gray{Bool}(false)  Gray{Bool}(false)     Gray{Bool}(false)\n",
       " Gray{Bool}(false)  Gray{Bool}(false)  …  Gray{Bool}(false)\n",
       " Gray{Bool}(false)  Gray{Bool}(false)     Gray{Bool}(false)\n",
       " Gray{Bool}(false)  Gray{Bool}(false)     Gray{Bool}(false)\n",
       " Gray{Bool}(false)  Gray{Bool}(false)     Gray{Bool}(false)\n",
       " Gray{Bool}(false)  Gray{Bool}(false)     Gray{Bool}(false)\n",
       " Gray{Bool}(false)  Gray{Bool}(false)  …  Gray{Bool}(false)"
      ]
     },
     "metadata": {},
     "output_type": "display_data"
    },
    {
     "data": {
      "image/png": "[encoded data removed]",
      "text/plain": [
       "36×65 Array{RGB{N0f8},2} with eltype RGB{Normed{UInt8,8}}:\n",
       " RGB{N0f8}(0.369,0.58,0.682)   …  RGB{N0f8}(0.216,0.443,0.537)\n",
       " RGB{N0f8}(0.396,0.608,0.702)     RGB{N0f8}(0.22,0.439,0.537) \n",
       " RGB{N0f8}(0.431,0.635,0.718)     RGB{N0f8}(0.224,0.435,0.537)\n",
       " RGB{N0f8}(0.424,0.624,0.69)      RGB{N0f8}(0.239,0.431,0.549)\n",
       " RGB{N0f8}(0.388,0.58,0.635)      RGB{N0f8}(0.251,0.427,0.549)\n",
       " RGB{N0f8}(0.361,0.549,0.588)  …  RGB{N0f8}(0.251,0.42,0.553) \n",
       " RGB{N0f8}(0.345,0.529,0.553)     RGB{N0f8}(0.251,0.42,0.557) \n",
       " RGB{N0f8}(0.357,0.533,0.553)     RGB{N0f8}(0.239,0.42,0.553) \n",
       " RGB{N0f8}(0.388,0.561,0.573)     RGB{N0f8}(0.216,0.424,0.549)\n",
       " RGB{N0f8}(0.518,0.671,0.69)      RGB{N0f8}(0.188,0.42,0.537) \n",
       " RGB{N0f8}(0.455,0.6,0.624)    …  RGB{N0f8}(0.173,0.424,0.529)\n",
       " RGB{N0f8}(0.373,0.502,0.529)     RGB{N0f8}(0.176,0.435,0.529)\n",
       " RGB{N0f8}(0.506,0.627,0.647)     RGB{N0f8}(0.176,0.435,0.522)\n",
       " ⋮                             ⋱                              \n",
       " RGB{N0f8}(0.467,0.561,0.569)     RGB{N0f8}(0.255,0.404,0.478)\n",
       " RGB{N0f8}(0.635,0.729,0.737)  …  RGB{N0f8}(0.208,0.384,0.467)\n",
       " RGB{N0f8}(0.698,0.792,0.792)     RGB{N0f8}(0.18,0.376,0.475) \n",
       " RGB{N0f8}(0.616,0.702,0.694)     RGB{N0f8}(0.184,0.384,0.49) \n",
       " RGB{N0f8}(0.525,0.604,0.596)     RGB{N0f8}(0.192,0.404,0.506)\n",
       " RGB{N0f8}(0.537,0.612,0.588)     RGB{N0f8}(0.196,0.4,0.494)  \n",
       " RGB{N0f8}(0.565,0.631,0.6)    …  RGB{N0f8}(0.173,0.369,0.459)\n",
       " RGB{N0f8}(0.616,0.667,0.627)     RGB{N0f8}(0.176,0.365,0.455)\n",
       " RGB{N0f8}(0.635,0.682,0.635)     RGB{N0f8}(0.192,0.388,0.486)\n",
       " RGB{N0f8}(0.655,0.686,0.627)     RGB{N0f8}(0.18,0.38,0.486)  \n",
       " RGB{N0f8}(0.647,0.675,0.604)     RGB{N0f8}(0.169,0.376,0.498)\n",
       " RGB{N0f8}(0.608,0.639,0.557)  …  RGB{N0f8}(0.161,0.376,0.498)"
      ]
     },
     "metadata": {},
     "output_type": "display_data"
    },
    {
     "data": {
      "image/svg+xml": [
       "<?xml version=\"1.0\" encoding=\"UTF-8\"?>\n",
       "<!DOCTYPE svg PUBLIC \"-//W3C//DTD SVG 1.1//EN\"\n",
       " \"http://www.w3.org/Graphics/SVG/1.1/DTD/svg11.dtd\">\n",
       "<svg xmlns=\"http://www.w3.org/2000/svg\" version=\"1.1\"\n",
       "     width=\"25mm\" height=\"25mm\" viewBox=\"0 0 1 1\">\n",
       "     <rect width=\"1\" height=\"1\"\n",
       "           fill=\"#F2DFDD\" stroke=\"none\"/>\n",
       "</svg>\n"
      ],
      "text/plain": [
       "RGB{Float64}(0.9474509803921568,0.8737254901960784,0.8683333333333333)"
      ]
     },
     "metadata": {},
     "output_type": "display_data"
    },
    {
     "name": "stdout",
     "output_type": "stream",
     "text": [
      "Se han detectado 5 objetos\n"
     ]
    }
   ],
   "source": [
    "img = load(\"../db/positivos/p003.jpg\");\n",
    "qValue1 = 0.75\n",
    "qValue2 = 0.95\n",
    "\n",
    "(img, R1, G1, B1) = get_main_color(img, qValue1, qValue2, esPixelBlanco)\n",
    "#display(RGB.(mean(R1),meaen(G1),mean(B1)));\n",
    "display(img);\n",
    "display(RGB.(R1,G1,B1));"
   ]
  }
 ],
 "metadata": {
  "@webio": {
   "lastCommId": null,
   "lastKernelId": null
  },
  "kernelspec": {
   "display_name": "Julia 1.3.1",
   "language": "julia",
   "name": "julia-1.3"
  },
  "language_info": {
   "file_extension": ".jl",
   "mimetype": "application/julia",
   "name": "julia",
   "version": "1.3.1"
  }
 },
 "nbformat": 4,
 "nbformat_minor": 2
}
